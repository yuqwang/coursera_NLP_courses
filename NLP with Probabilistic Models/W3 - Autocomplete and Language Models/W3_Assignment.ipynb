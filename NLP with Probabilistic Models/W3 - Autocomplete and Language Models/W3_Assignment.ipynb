{
 cells [
  {
   cell_type markdown,
   metadata {},
   source [
    # Language Models Auto-Completen,
    n,
    In this assignment, you will build an auto-complete system.  Auto-complete system is something you may see every dayn,
    - When you google something, you often have suggestions to help you complete your search. n,
    - When you are writing an email, you get suggestions telling you possible endings to your sentence.  n,
    n,
    By the end of this assignment, you will develop a prototype of such a system.n,
    n,
    img src = stanford.png style=width700px;height300px;
   ]
  },
  {
   cell_type markdown,
   metadata {},
   source [
    ## Outlinen,
    - [1 Load and Preprocess Data](#1)n,
    - [1.1 Load the data](#1.1)n,
    - [1.2 Pre-process the data](#1.2)n,
        - [Exercise 01](#ex-01)n,
        - [Exercise 02](#ex-02)n,
        - [Exercise 03](#ex-03)n,
        - [Exercise 04](#ex-04)n,
        - [Exercise 05](#ex-05)n,
        - [Exercise 06](#ex-06)n,
        - [Exercise 07](#ex-07)n,
    - [2 Develop n-gram based language models](#2)n,
        - [Exercise 08](#ex-08)n,
        - [Exercise 09](#ex-09)    n,
    - [3 Perplexity](#3)n,
        - [Exercise 10](#ex-10)n,
    - [4 Build an auto-complete system](#4)n,
        - [Exercise 11](#ex-11)
   ]
  },
  {
   cell_type markdown,
   metadata {},
   source [
    A key building block for an auto-complete system is a language model.n,
    A language model assigns the probability to a sequence of words, in a way that more likely sequences receive higher scores.  For example, n,
    I have a pen n,
    is expected to have a higher probability than n,
    I am a penn,
    since the first one seems to be a more natural sentence in the real world.n,
    n,
    You can take advantage of this probability calculation to develop an auto-complete system.  n,
    Suppose the user typed n,
    I eat scrambledn,
    Then you can find a word `x`  such that I eat scrambled x receives the highest probability.  If x = eggs, the sentence would ben,
    I eat scrambled eggsn,
    n,
    While a variety of language models have been developed, this assignment uses N-grams, a simple but powerful method for language modeling.n,
    - N-grams are also used in machine translation and speech recognition. n,
    n,
    n,
    Here are the steps of this assignmentn,
    n,
    1. Load and preprocess datan,
        - Load and tokenize data.n,
        - Split the sentences into train and test sets.n,
        - Replace words with a low frequency by an unknown marker `unk`.n,
    1. Develop N-gram based language modelsn,
        - Compute the count of n-grams from a given data set.n,
        - Estimate the conditional probability of a next word with k-smoothing.n,
    1. Evaluate the N-gram models by computing the perplexity score.n,
    1. Use your own model to suggest an upcoming word given your sentence. 
   ]
  },
  {
   cell_type code,
   execution_count 1,
   metadata {},
   outputs [],
   source [
    import mathn,
    import randomn,
    import numpy as npn,
    import pandas as pdn,
    import nltkn,
    nltk.data.path.append('.')
   ]
  },
  {
   cell_type markdown,
   metadata {},
   source [
    a name='1'an,
    ## Part 1 Load and Preprocess Datan,
    n,
    a name='1.1'an,
    ### Part 1.1 Load the datan,
    You will use twitter data.n,
    Load the data and view the first few sentences by running the next cell.n,
    n,
    Notice that data is a long string that contains many many tweets.n,
    Observe that there is a line break n between tweets.
   ]
  },
  {
   cell_type code,
   execution_count 2,
   metadata {},
   outputs [
    {
     name stdout,
     output_type stream,
     text [
      Data type class 'str'n,
      Number of letters 3335477n,
      First 300 letters of the datan,
      -------n
     ]
    },
    {
     data {
      textplain [
       How are you Btw thanks for the RT. You gonna be in DC anytime soon Love to see you. Been way, way too long.nWhen you meet someone special... you'll know. Your heart will beat more rapidly and you'll smile for no reason.nthey've decided its more fun if I don't.nSo Tired D; Played Lazer Tag & Ran A 
      ]
     },
     metadata {},
     output_type display_data
    },
    {
     name stdout,
     output_type stream,
     text [
      -------n,
      Last 300 letters of the datan,
      -------n
     ]
    },
    {
     data {
      textplain [
       ust had one a few weeks back....hopefully we will be back soon! wish you the best yonColombia is with an 'o'...“ We now ship to 4 countries in South America (fist pump). Please welcome Columbia to the Stunner Family”n#GutsiestMovesYouCanMake Giving a cat a bath.nCoffee after 5 was a TERRIBLE idea.n
      ]
     },
     metadata {},
     output_type display_data
    },
    {
     name stdout,
     output_type stream,
     text [
      -------n
     ]
    }
   ],
   source [
    with open(en_US.twitter.txt, r) as fn,
        data = f.read()n,
    print(Data type, type(data))n,
    print(Number of letters, len(data))n,
    print(First 300 letters of the data)n,
    print(-------)n,
    display(data[0300])n,
    print(-------)n,
    n,
    print(Last 300 letters of the data)n,
    print(-------)n,
    display(data[-300])n,
    print(-------)
   ]
  },
  {
   cell_type markdown,
   metadata {},
   source [
    a name='1.2'an,
    ### Part 1.2 Pre-process the datan,
    n,
    Preprocess this data with the following stepsn,
    n,
    1. Split data into sentences using n as the delimiter.n,
    1. Split each sentence into tokens. Note that in this assignment we use token and words interchangeably.n,
    1. Assign sentences into train or test sets.n,
    1. Find tokens that appear at least N times in the training data.n,
    1. Replace tokens that appear less than N times by `unk`n,
    n,
    n,
    Note we omit validation data in this exercise.n,
    - In real applications, we should hold a part of data as a validation set and use it to tune our training.n,
    - We skip this process for simplicity.
   ]
  },
  {
   cell_type markdown,
   metadata {},
   source [
    a name='ex-01'an,
    ### Exercise 01n,
    n,
    Split data into sentences.
   ]
  },
  {
   cell_type markdown,
   metadata {},
   source [
    details    n,
    summaryn,
        font size=3 color=darkgreenbHintsbfontn,
    summaryn,
    pn,
    uln,
        li Use a href=httpsdocs.python.org3librarystdtypes.htmlhighlight=split#str.split str.splita lin,
    uln,
    p
   ]
  },
  {
   cell_type code,
   execution_count 3,
   metadata {},
   outputs [],
   source [
    # UNQ_C1 (UNIQUE CELL IDENTIFIER, DO NOT EDIT)n,
    ### GRADED_FUNCTION split_to_sentences ###n,
    def split_to_sentences(data)n,
        n,
        Split data by linebreak nn,
        n,
        Argsn,
            data strn,
        n,
        Returnsn,
            A list of sentencesn,
        n,
        ### START CODE HERE (Replace instances of 'None' with your code) ###n,
        sentences = data.split('n')n,
        ### END CODE HERE ###n,
        n,
        # Additional clearning (This part is already implemented)n,
        # - Remove leading and trailing spaces from each sentencen,
        # - Drop sentences if they are empty strings.n,
        sentences = [s.strip() for s in sentences]n,
        sentences = [s for s in sentences if len(s)  0]n,
        n,
        return sentences    
   ]
  },
  {
   cell_type code,
   execution_count 4,
   metadata {},
   outputs [
    {
     name stdout,
     output_type stream,
     text [
      n,
      I have a pen.n,
      I have an apple. n,
      Ahn,
      Apple pen.n,
      n,
      n
     ]
    },
    {
     data {
      textplain [
       ['I have a pen.', 'I have an apple.', 'Ah', 'Apple pen.']
      ]
     },
     execution_count 4,
     metadata {},
     output_type execute_result
    }
   ],
   source [
    # test your coden,
    x = n,
    I have a pen.nI have an apple. nAhnApple pen.nn,
    n,
    print(x)n,
    n,
    split_to_sentences(x)
   ]
  },
  {
   cell_type markdown,
   metadata {},
   source [
    Expected answer n,
    ```CPPn,
    ['I have a pen.', 'I have an apple.', 'Ah', 'Apple pen.']n,
    ```
   ]
  },
  {
   cell_type markdown,
   metadata {},
   source [
    a name='ex-02'an,
    ### Exercise 02n,
    The next step is to tokenize sentences (split a sentence into a list of words). n,
    - Convert all tokens into lower case so that words which are capitalized (for example, at the start of a sentence) in the original text are treated the same as the lowercase versions of the words.n,
    - Append each tokenized list of words into a list of tokenized sentences.
   ]
  },
  {
   cell_type markdown,
   metadata {},
   source [
    details    n,
    summaryn,
        font size=3 color=darkgreenbHintsbfontn,
    summaryn,
    pn,
    uln,
        liUse a href=httpsdocs.python.org3librarystdtypes.htmlhighlight=split#str.lower str.lowera to convert strings to lowercase. lin,
        liPlease use a href=httpswww.nltk.orgapinltk.tokenize.html#nltk.tokenize.punkt.PunktLanguageVars.word_tokenize nltk.word_tokenizea to split sentences into tokens.lin,
        liIf you used str.split insteaad of nltk.word_tokenize, there are additional edge cases to handle, such as the punctuation (comma, period) that follows a word.lin,
    uln,
    pn
   ]
  },
  {
   cell_type code,
   execution_count 5,
   metadata {},
   outputs [],
   source [
    # UNQ_C2 (UNIQUE CELL IDENTIFIER, DO NOT EDIT)n,
    ### GRADED_FUNCTION tokenize_sentences ###n,
    def tokenize_sentences(sentences)n,
        n,
        Tokenize sentences into tokens (words)n,
        n,
        Argsn,
            sentences List of stringsn,
        n,
        Returnsn,
            List of lists of tokensn,
        n,
        n,
        # Initialize the list of lists of tokenized sentencesn,
        tokenized_sentences = []n,
        ### START CODE HERE (Replace instances of 'None' with your code) ###n,
        n,
        # Go through each sentencen,
        for sentence in sentencesn,
            n,
            # Convert to lowercase lettersn,
            sentence = sentence.lower()n,
            n,
            # Convert into a list of wordsn,
            tokenized = nltk.word_tokenize(sentence)n,
            n,
            # append the list of words to the list of listsn,
            tokenized_sentences.append(tokenized)n,
        n,
        ### END CODE HERE ###n,
        n,
        return tokenized_sentences
   ]
  },
  {
   cell_type code,
   execution_count 6,
   metadata {},
   outputs [
    {
     data {
      textplain [
       [['sky', 'is', 'blue', '.'],n,
        ['leaves', 'are', 'green', '.'],n,
        ['roses', 'are', 'red', '.']]
      ]
     },
     execution_count 6,
     metadata {},
     output_type execute_result
    }
   ],
   source [
    # test your coden,
    sentences = [Sky is blue., Leaves are green., Roses are red.]n,
    tokenize_sentences(sentences)
   ]
  },
  {
   cell_type markdown,
   metadata {},
   source [
    ### Expected outputn,
    n,
    ```CPPn,
    [['sky', 'is', 'blue', '.'],n,
     ['leaves', 'are', 'green', '.'],n,
     ['roses', 'are', 'red', '.']]n,
    ```
   ]
  },
  {
   cell_type markdown,
   metadata {},
   source [
    a name='ex-03'an,
    ### Exercise 03n,
    n,
    n,
    Use the two functions that you have just implemented to get the tokenized data.n,
    - split the data into sentencesn,
    - tokenize those sentences
   ]
  },
  {
   cell_type code,
   execution_count 7,
   metadata {},
   outputs [],
   source [
    # UNQ_C3 (UNIQUE CELL IDENTIFIER, DO NOT EDIT)n,
    ### GRADED_FUNCTION get_tokenized_data ###n,
    def get_tokenized_data(data)n,
        n,
        Make a list of tokenized sentencesn,
        n,
        Argsn,
            data Stringn,
        n,
        Returnsn,
            List of lists of tokensn,
        n,
        ### START CODE HERE (Replace instances of 'None' with your code) ###n,
        n,
        # Get the sentences by splitting up the datan,
        sentences = split_to_sentences(data)n,
        n,
        # Get the list of lists of tokens by tokenizing the sentencesn,
        tokenized_sentences = tokenize_sentences(sentences)n,
        n,
        ### END CODE HERE ###n,
        n,
        return tokenized_sentences
   ]
  },
  {
   cell_type code,
   execution_count 8,
   metadata {},
   outputs [
    {
     data {
      textplain [
       [['sky', 'is', 'blue', '.'],n,
        ['leaves', 'are', 'green'],n,
        ['roses', 'are', 'red', '.']]
      ]
     },
     execution_count 8,
     metadata {},
     output_type execute_result
    }
   ],
   source [
    # test your functionn,
    x = Sky is blue.nLeaves are greennRoses are red.n,
    get_tokenized_data(x)
   ]
  },
  {
   cell_type markdown,
   metadata {},
   source [
    ##### Expected outcomen,
    n,
    ```CPPn,
    [['sky', 'is', 'blue', '.'],n,
     ['leaves', 'are', 'green'],n,
     ['roses', 'are', 'red', '.']]n,
    ```
   ]
  },
  {
   cell_type markdown,
   metadata {},
   source [
    ### Split into train and test setsn,
    n,
    Now run the cell below to split data into training and test sets.
   ]
  },
  {
   cell_type code,
   execution_count 9,
   metadata {},
   outputs [],
   source [
    tokenized_data = get_tokenized_data(data)n,
    random.seed(87)n,
    random.shuffle(tokenized_data)n,
    n,
    train_size = int(len(tokenized_data)  0.8)n,
    train_data = tokenized_data[0train_size]n,
    test_data = tokenized_data[train_size]
   ]
  },
  {
   cell_type code,
   execution_count 10,
   metadata {},
   outputs [
    {
     name stdout,
     output_type stream,
     text [
      47961 data are split into 38368 train and 9593 test setn,
      First training samplen,
      ['i', 'personally', 'would', 'like', 'as', 'our', 'official', 'glove', 'of', 'the', 'team', 'local', 'company', 'and', 'quality', 'production']n,
      First test samplen,
      ['that', 'picture', 'i', 'just', 'seen', 'whoa', 'dere', '!', '!', '', '', '', '', '', '', '']n
     ]
    }
   ],
   source [
    print({} data are split into {} train and {} test set.format(n,
        len(tokenized_data), len(train_data), len(test_data)))n,
    n,
    print(First training sample)n,
    print(train_data[0])n,
          n,
    print(First test sample)n,
    print(test_data[0])
   ]
  },
  {
   cell_type markdown,
   metadata {},
   source [
    ##### Expected outputn,
    n,
    ```CPPn,
    47961 data are split into 38368 train and 9593 test setn,
    First training samplen,
    ['i', 'personally', 'would', 'like', 'as', 'our', 'official', 'glove', 'of', 'the', 'team', 'local', 'company', 'and', 'quality', 'production']n,
    First test samplen,
    ['that', 'picture', 'i', 'just', 'seen', 'whoa', 'dere', '!', '!', '', '', '', '', '', '', '']n,
    ```
   ]
  },
  {
   cell_type markdown,
   metadata {},
   source [
    a name='ex-04'an,
    ### Exercise 04n,
    n,
    You won't use all the tokens (words) appearing in the data for training.  Instead, you will use the more frequently used words.  n,
    - You will focus on the words that appear at least N times in the data.n,
    - First count how many times each word appears in the data.n,
    n,
    You will need a double for-loop, one for sentences and the other for tokens within a sentence.n
   ]
  },
  {
   cell_type markdown,
   metadata {},
   source [
    details    n,
    summaryn,
        font size=3 color=darkgreenbHintsbfontn,
    summaryn,
    pn,
    uln,
        liIf you decide to import and use defaultdict, remember to cast the dictionary back to a regular 'dict' before returning it. lin,
    uln,
    pn
   ]
  },
  {
   cell_type code,
   execution_count 11,
   metadata {},
   outputs [],
   source [
    # UNQ_C4 (UNIQUE CELL IDENTIFIER, DO NOT EDIT)n,
    ### GRADED_FUNCTION count_words ###n,
    def count_words(tokenized_sentences)n,
        n,
        Count the number of word appearence in the tokenized sentencesn,
        n,
        Argsn,
            tokenized_sentences List of lists of stringsn,
        n,
        Returnsn,
            dict that maps word (str) to the frequency (int)n,
        n,
            n,
        word_counts = {}n,
        ### START CODE HERE (Replace instances of 'None' with your code) ###n,
        n,
        # Loop through each sentencen,
        for sentence in tokenized_sentences # complete this linen,
            n,
            # Go through each token in the sentencen,
            for token in sentence # complete this linen,
    n,
                # If the token is not in the dictionary yet, set the count to 1n,
                if token not in word_counts.keys() # complete this linen,
                    word_counts[token] = 1n,
                n,
                # If the token is already in the dictionary, increment the count by 1n,
                elsen,
                    word_counts[token] += 1n,
    n,
        ### END CODE HERE ###n,
        n,
        return word_counts
   ]
  },
  {
   cell_type code,
   execution_count 12,
   metadata {},
   outputs [
    {
     data {
      textplain [
       {'sky' 1,n,
        'is' 1,n,
        'blue' 1,n,
        '.' 3,n,
        'leaves' 1,n,
        'are' 2,n,
        'green' 1,n,
        'roses' 1,n,
        'red' 1}
      ]
     },
     execution_count 12,
     metadata {},
     output_type execute_result
    }
   ],
   source [
    # test your coden,
    tokenized_sentences = [['sky', 'is', 'blue', '.'],n,
                           ['leaves', 'are', 'green', '.'],n,
                           ['roses', 'are', 'red', '.']]n,
    count_words(tokenized_sentences)
   ]
  },
  {
   cell_type markdown,
   metadata {},
   source [
    ##### Expected outputn,
    n,
    Note that the order may differ.n,
    n,
    ```CPPn,
    {'sky' 1,n,
     'is' 1,n,
     'blue' 1,n,
     '.' 3,n,
     'leaves' 1,n,
     'are' 2,n,
     'green' 1,n,
     'roses' 1,n,
     'red' 1}n,
    ```
   ]
  },
  {
   cell_type markdown,
   metadata {},
   source [
    ### Handling 'Out of Vocabulary' wordsn,
    n,
    If your model is performing autocomplete, but encounters a word that it never saw during training, it won't have an input word to help it determine the next word to suggest. The model will not be able to predict the next word because there are no counts for the current word. n,
    - This 'new' word is called an 'unknown word', or bout of vocabulary (OOV)b words.n,
    - The percentage of unknown words in the test set is called the b OOV b rate. n,
    n,
    To handle unknown words during prediction, use a special token to represent all unknown words 'unk'. n,
    - Modify the training data so that it has some 'unknown' words to train on.n,
    - Words to convert into unknown words are those that do not occur very frequently in the training set.n,
    - Create a list of the most frequent words in the training set, called the b closed vocabulary b. n,
    - Convert all the other words that are not part of the closed vocabulary to the token 'unk'. 
   ]
  },
  {
   cell_type markdown,
   metadata {},
   source [
    a name='ex-05'an,
    ### Exercise 05n,
    n,
    You will now create a function that takes in a text document and a threshold 'count_threshold'.n,
    - Any word whose count is greater than or equal to the threshold 'count_threshold' is kept in the closed vocabulary.n,
    - used that you want to keep, returns the document containing only the word closed vocabulary and the word unk. 
   ]
  },
  {
   cell_type code,
   execution_count 13,
   metadata {},
   outputs [],
   source [
    # UNQ_C5 (UNIQUE CELL IDENTIFIER, DO NOT EDIT)n,
    ### GRADED_FUNCTION get_words_with_nplus_frequency ###n,
    def get_words_with_nplus_frequency(tokenized_sentences, count_threshold)n,
        n,
        Find the words that appear N times or moren,
        n,
        Argsn,
            tokenized_sentences List of lists of sentencesn,
            count_threshold minimum number of occurrences for a word to be in the closed vocabulary.n,
        n,
        Returnsn,
            List of words that appear N times or moren,
        n,
        # Initialize an empty list to contain the words thatn,
        # appear at least 'minimum_freq' times.n,
        closed_vocab = []n,
        n,
        # Get the word couts of the tokenized sentencesn,
        # Use the function that you defined earlier to count the wordsn,
        word_counts = count_words(tokenized_sentences)n,
        ### START CODE HERE (Replace instances of 'None' with your code) ###n,
        # for each word and its countn,
        for word, cnt in word_counts.items() # complete this linen,
            n,
            # check that the word's countn,
            # is at least as great as the minimum countn,
            if cnt = count_thresholdn,
                n,
                # append the word to the listn,
                closed_vocab.append(word)n,
        ### END CODE HERE ###n,
        n,
        return closed_vocab
   ]
  },
  {
   cell_type code,
   execution_count 14,
   metadata {},
   outputs [
    {
     name stdout,
     output_type stream,
     text [
      Closed vocabularyn,
      ['.', 'are']n
     ]
    }
   ],
   source [
    # test your coden,
    tokenized_sentences = [['sky', 'is', 'blue', '.'],n,
                           ['leaves', 'are', 'green', '.'],n,
                           ['roses', 'are', 'red', '.']]n,
    tmp_closed_vocab = get_words_with_nplus_frequency(tokenized_sentences, count_threshold=2)n,
    print(fClosed vocabulary)n,
    print(tmp_closed_vocab)
   ]
  },
  {
   cell_type markdown,
   metadata {},
   source [
    ##### Expected outputn,
    n,
    ```CPPn,
    Closed vocabularyn,
    ['.', 'are']n,
    ```
   ]
  },
  {
   cell_type markdown,
   metadata {},
   source [
    a name='ex-06'an,
    ### Exercise 06n,
    n,
    The words that appear 'count_threshold' times or more are in the 'closed vocabulary. n,
    - All other words are regarded as 'unknown'.n,
    - Replace words not in the closed vocabulary with the token unk.
   ]
  },
  {
   cell_type code,
   execution_count 15,
   metadata {},
   outputs [],
   source [
    # UNQ_C6 (UNIQUE CELL IDENTIFIER, DO NOT EDIT)n,
    ### GRADED_FUNCTION replace_oov_words_by_unk ###n,
    def replace_oov_words_by_unk(tokenized_sentences, vocabulary, unknown_token=unk)n,
        n,
        Replace words not in the given vocabulary with 'unk' token.n,
        n,
        Argsn,
            tokenized_sentences List of lists of stringsn,
            vocabulary List of strings that we will usen,
            unknown_token A string representing unknown (out-of-vocabulary) wordsn,
        n,
        Returnsn,
            List of lists of strings, with words not in the vocabulary replacedn,
        n,
        n,
        # Place vocabulary into a set for faster searchn,
        vocabulary = set(vocabulary)n,
        n,
        # Initialize a list that will hold the sentencesn,
        # after less frequent words are replaced by the unknown tokenn,
        replaced_tokenized_sentences = []n,
        n,
        # Go through each sentencen,
        for sentence in tokenized_sentencesn,
            n,
            # Initialize the list that will containn,
            # a single sentence with unknown_token replacementsn,
            replaced_sentence = []n,
            ### START CODE HERE (Replace instances of 'None' with your code) ###n,
    n,
            # for each token in the sentencen,
            for token in sentence # complete this linen,
                n,
                # Check if the token is in the closed vocabularyn,
                if token in vocabulary # complete this linen,
                    # If so, append the word to the replaced_sentencen,
                    replaced_sentence.append(token)n,
                elsen,
                    # otherwise, append the unknown token insteadn,
                    replaced_sentence.append(unknown_token)n,
            ### END CODE HERE ###n,
            n,
            # Append the list of tokens to the list of listsn,
            replaced_tokenized_sentences.append(replaced_sentence)n,
            n,
        return replaced_tokenized_sentences
   ]
  },
  {
   cell_type code,
   execution_count 16,
   metadata {},
   outputs [
    {
     name stdout,
     output_type stream,
     text [
      Original sentencen,
      [['dogs', 'run'], ['cats', 'sleep']]n,
      tokenized_sentences with less frequent words converted to 'unk'n,
      [['dogs', 'unk'], ['unk', 'sleep']]n
     ]
    }
   ],
   source [
    tokenized_sentences = [[dogs, run], [cats, sleep]]n,
    vocabulary = [dogs, sleep]n,
    tmp_replaced_tokenized_sentences = replace_oov_words_by_unk(tokenized_sentences, vocabulary)n,
    print(fOriginal sentence)n,
    print(tokenized_sentences)n,
    print(ftokenized_sentences with less frequent words converted to 'unk')n,
    print(tmp_replaced_tokenized_sentences)
   ]
  },
  {
   cell_type markdown,
   metadata {},
   source [
    ### Expected answern,
    n,
    ```CPPn,
    Original sentencen,
    [['dogs', 'run'], ['cats', 'sleep']]n,
    tokenized_sentences with less frequent words converted to 'unk'n,
    [['dogs', 'unk'], ['unk', 'sleep']]n,
    ```
   ]
  },
  {
   cell_type markdown,
   metadata {},
   source [
    a name='ex-07'an,
    ### Exercise 07n,
    n,
    Now we are ready to process our data by combining the functions that you just implemented.n,
    n,
    1. Find tokens that appear at least count_threshold times in the training data.n,
    1. Replace tokens that appear less than count_threshold times by unk both for training and test data.
   ]
  },
  {
   cell_type code,
   execution_count 17,
   metadata {},
   outputs [],
   source [
    # UNQ_C7 (UNIQUE CELL IDENTIFIER, DO NOT EDIT)n,
    ### GRADED_FUNCTION preprocess_data ###n,
    def preprocess_data(train_data, test_data, count_threshold)n,
        n,
        Preprocess data, i.e.,n,
            - Find tokens that appear at least N times in the training data.n,
            - Replace tokens that appear less than N times by unk both for training and test data.        n,
        Argsn,
            train_data, test_data List of lists of strings.n,
            count_threshold Words whose count is less than this are n,
                          treated as unknown.n,
        n,
        Returnsn,
            Tuple ofn,
            - training data with low frequent words replaced by unkn,
            - test data with low frequent words replaced by unkn,
            - vocabulary of words that appear n times or more in the training datan,
        n,
        ### START CODE HERE (Replace instances of 'None' with your code) ###n,
        n,
        # Get the closed vocabulary using the train datan,
        vocabulary = get_words_with_nplus_frequency(train_data,count_threshold)n,
        n,
        # For the train data, replace less common words with unkn,
        train_data_replaced = replace_oov_words_by_unk(train_data,vocabulary)n,
        n,
        # For the test data, replace less common words with unkn,
        test_data_replaced = replace_oov_words_by_unk(test_data,vocabulary)n,
        n,
        ### END CODE HERE ###n,
        return train_data_replaced, test_data_replaced, vocabulary
   ]
  },
  {
   cell_type code,
   execution_count 18,
   metadata {},
   outputs [
    {
     name stdout,
     output_type stream,
     text [
      tmp_train_repln,
      [['sky', 'is', 'blue', '.'], ['leaves', 'are', 'green']]n,
      n,
      tmp_test_repln,
      [['unk', 'are', 'unk', '.']]n,
      n,
      tmp_vocabn,
      ['sky', 'is', 'blue', '.', 'leaves', 'are', 'green']n
     ]
    }
   ],
   source [
    # test your coden,
    tmp_train = [['sky', 'is', 'blue', '.'],n,
         ['leaves', 'are', 'green']]n,
    tmp_test = [['roses', 'are', 'red', '.']]n,
    n,
    tmp_train_repl, tmp_test_repl, tmp_vocab = preprocess_data(tmp_train, n,
                                                               tmp_test, n,
                                                               count_threshold = 1)n,
    n,
    print(tmp_train_repl)n,
    print(tmp_train_repl)n,
    print()n,
    print(tmp_test_repl)n,
    print(tmp_test_repl)n,
    print()n,
    print(tmp_vocab)n,
    print(tmp_vocab)
   ]
  },
  {
   cell_type markdown,
   metadata {},
   source [
    ##### Expected outcomen,
    n,
    ```CPPn,
    tmp_train_repln,
    [['sky', 'is', 'blue', '.'], ['leaves', 'are', 'green']]n,
    n,
    tmp_test_repln,
    [['unk', 'are', 'unk', '.']]n,
    n,
    tmp_vocabn,
    ['sky', 'is', 'blue', '.', 'leaves', 'are', 'green']n,
    ```
   ]
  },
  {
   cell_type markdown,
   metadata {},
   source [
    ### Preprocess the train and test datan,
    Run the cell below to complete the preprocessing both for training and test sets.
   ]
  },
  {
   cell_type code,
   execution_count 19,
   metadata {},
   outputs [],
   source [
    minimum_freq = 2n,
    train_data_processed, test_data_processed, vocabulary = preprocess_data(train_data, n,
                                                                            test_data, n,
                                                                            minimum_freq)
   ]
  },
  {
   cell_type code,
   execution_count 20,
   metadata {},
   outputs [
    {
     name stdout,
     output_type stream,
     text [
      First preprocessed training samplen,
      ['i', 'personally', 'would', 'like', 'as', 'our', 'official', 'glove', 'of', 'the', 'team', 'local', 'company', 'and', 'quality', 'production']n,
      n,
      First preprocessed test samplen,
      ['that', 'picture', 'i', 'just', 'seen', 'whoa', 'dere', '!', '!', '', '', '', '', '', '', '']n,
      n,
      First 10 vocabularyn,
      ['i', 'personally', 'would', 'like', 'as', 'our', 'official', 'glove', 'of', 'the']n,
      n,
      Size of vocabulary 14821n
     ]
    }
   ],
   source [
    print(First preprocessed training sample)n,
    print(train_data_processed[0])n,
    print()n,
    print(First preprocessed test sample)n,
    print(test_data_processed[0])n,
    print()n,
    print(First 10 vocabulary)n,
    print(vocabulary[010])n,
    print()n,
    print(Size of vocabulary, len(vocabulary))
   ]
  },
  {
   cell_type markdown,
   metadata {},
   source [
    ##### Expected outputn,
    n,
    ```CPPn,
    First preprocessed training samplen,
    ['i', 'personally', 'would', 'like', 'as', 'our', 'official', 'glove', 'of', 'the', 'team', 'local', 'company', 'and', 'quality', 'production']n,
    n,
    First preprocessed test samplen,
    ['that', 'picture', 'i', 'just', 'seen', 'whoa', 'dere', '!', '!', '', '', '', '', '', '', '']n,
    n,
    First 10 vocabularyn,
    ['i', 'personally', 'would', 'like', 'as', 'our', 'official', 'glove', 'of', 'the']n,
    n,
    Size of vocabulary 14821n,
    ```
   ]
  },
  {
   cell_type markdown,
   metadata {},
   source [
    You are done with the preprocessing section of the assignment.n,
    Objects `train_data_processed`, `test_data_processed`, and `vocabulary` will be used in the rest of the exercises.
   ]
  },
  {
   cell_type markdown,
   metadata {},
   source [
    a name='2'an,
    ## Part 2 Develop n-gram based language modelsn,
    n,
    In this section, you will develop the n-grams language model.n,
    - Assume the probability of the next word depends only on the previous n-gram.n,
    - The previous n-gram is the series of the previous 'n' words.n,
    n,
    The conditional probability for the word at position 't' in the sentence, given that the words preceding it are $w_{t-1}, w_{t-2} cdots w_{t-n}$ isn,
    n,
    $$ P(w_t  w_{t-1}dots w_{t-n}) tag{1}$$n,
    n,
    You can estimate this probability  by counting the occurrences of these series of words in the training data.n,
    - The probability can be estimated as a ratio, wheren,
    - The numerator is the number of times word 't' appears after words t-1 through t-n appear in the training data.n,
    - The denominator is the number of times word t-1 through t-n appears in the training data.n,
    n,
    $$ hat{P}(w_t  w_{t-1}dots w_{t-n}) = frac{C(w_{t-1}dots w_{t-n}, w_n)}{C(w_{t-1}dots w_{t-n})} tag{2} $$n,
    n,
    - The function $C(cdots)$ denotes the number of occurence of the given sequence. n,
    - $hat{P}$ means the estimation of $P$. n,
    - Notice that denominator of the equation (2) is the number of occurence of the previous $n$ words, and the numerator is the same sequence followed by the word $w_t$.n,
    n,
    Later, you will modify the equation (2) by adding k-smoothing, which avoids errors when any counts are zero.n,
    n,
    The equation (2) tells us that to estimate probabilities based on n-grams, you need the counts of n-grams (for denominator) and (n+1)-grams (for numerator).
   ]
  },
  {
   cell_type markdown,
   metadata {},
   source [
    a name='ex-08'an,
    ### Exercise 08n,
    Next, you will implement a function that computes the counts of n-grams for an arbitrary number $n$.n,
    n,
    When computing the counts for n-grams, prepare the sentence beforehand by prepending $n-1$ starting markers s to indicate the beginning of the sentence.  n,
    - For example, in the bi-gram model (N=2), a sequence with two start tokens ss should predict the first word of a sentence.n,
    - So, if the sentence is I like food, modify it to be ss I like food.n,
    - Also prepare the sentence for counting by appending an end token e so that the model can predict when to finish a sentence.n,
    n,
    Technical note In this implementation, you will store the counts as a dictionary.n,
    - The key of each key-value pair in the dictionary is a tuple of n words (and not a list)n,
    - The value in the key-value pair is the number of occurrences.  n,
    - The reason for using a tuple as a key instead of a list is because a list in Python is a mutable object (it can be changed after it is first created).  A tuple is immutable, so it cannot be altered after it is first created.  This makes a tuple suitable as a data type for the key in a dictionary.
   ]
  },
  {
   cell_type markdown,
   metadata {},
   source [
    details    n,
    summaryn,
        font size=3 color=darkgreenbHintsbfontn,
    summaryn,
    pn,
    uln,
        li To prepend or append, you can create lists and concatenate them using the + operator lin,
        li To create a list of a repeated value, you can follow this syntax code['a']  3code to get code['a','a','a']code lin,
        liTo set the range for index 'i', think of this example An n-gram where n=2 (bigram), and the sentence is length N=5 (including two start tokens and one end token).  So the index positions are code[0,1,2,3,4]code.  The largest index 'i' where a bigram can start is at position i=3, because the word tokens at position 3 and 4 will form the bigram. lin,
        liRemember that the coderange()code function excludes the value that is used for the maximum of the range.  code range(3) code produces (0,1,2) but excludes 3. lin,
    uln,
    pn
   ]
  },
  {
   cell_type code,
   execution_count 21,
   metadata {},
   outputs [],
   source [
    # UNQ_C8 (UNIQUE CELL IDENTIFIER, DO NOT EDIT)n,
    ### GRADED FUNCTION count_n_grams ###n,
    def count_n_grams(data, n, start_token='s', end_token = 'e')n,
        n,
        Count all n-grams in the datan,
        n,
        Argsn,
            data List of lists of wordsn,
            n number of words in a sequencen,
        n,
        Returnsn,
            A dictionary that maps a tuple of n-words to its frequencyn,
        n,
        n,
        # Initialize dictionary of n-grams and their countsn,
        n_grams = {}n,
    n,
        ### START CODE HERE (Replace instances of 'None' with your code) ###n,
        n,
        # Go through each sentence in the datan,
        for sentence in data # complete this linen,
            n,
            # prepend start token n times, and  append e one timen,
            sentence = [start_token]  n+ sentence + [end_token]n,
            # convert list to tuplen,
            # So that the sequence of words can be used asn,
            # a key in the dictionaryn,
            sentence = tuple(sentence)n,
            n,
            # Use 'i' to indicate the start of the n-gramn,
            # from index 0n,
            # to the last index where the end of the n-gramn,
            # is within the sentence.n,
            n,
            m = len(sentence) if n==1 else len(sentence)-1n,
            for i in range(m) # complete this linen,
            n,
                # Get the n-gram from i to i+nn,
                n_gram = sentence[ii+n]n,
                n,
                # check if the n-gram is in the dictionaryn,
                if n_gram in n_grams.keys() # complete this linen,
                n,
                    # Increment the count for this n-gramn,
                    n_grams[n_gram] += 1n,
                elsen,
                    # Initialize this n-gram count to 1n,
                    n_grams[n_gram] = 1n,
        n,
                ### END CODE HERE ###n,
        return n_grams
   ]
  },
  {
   cell_type code,
   execution_count 22,
   metadata {},
   outputs [
    {
     name stdout,
     output_type stream,
     text [
      Uni-gramn,
      {('s',) 2, ('i',) 1, ('like',) 2, ('a',) 2, ('cat',) 2, ('e',) 2, ('this',) 1, ('dog',) 1, ('is',) 1}n,
      Bi-gramn,
      {('s', 's') 2, ('s', 'i') 1, ('i', 'like') 1, ('like', 'a') 2, ('a', 'cat') 2, ('cat', 'e') 2, ('s', 'this') 1, ('this', 'dog') 1, ('dog', 'is') 1, ('is', 'like') 1}n
     ]
    }
   ],
   source [
    # test your coden,
    # CODE REVIEW COMMENT Outcome does not match expected outcomen,
    sentences = [['i', 'like', 'a', 'cat'],n,
                 ['this', 'dog', 'is', 'like', 'a', 'cat']]n,
    print(Uni-gram)n,
    print(count_n_grams(sentences, 1))n,
    print(Bi-gram)n,
    print(count_n_grams(sentences, 2))
   ]
  },
  {
   cell_type markdown,
   metadata {},
   source [
    Expected outcomen,
    n,
    ```CPPn,
    Uni-gramn,
    {('s',) 2, ('i',) 1, ('like',) 2, ('a',) 2, ('cat',) 2, ('e',) 2, ('this',) 1, ('dog',) 1, ('is',) 1}n,
    Bi-gramn,
    {('s', 's') 2, ('s', 'i') 1, ('i', 'like') 1, ('like', 'a') 2, ('a', 'cat') 2, ('cat', 'e') 2, ('s', 'this') 1, ('this', 'dog') 1, ('dog', 'is') 1, ('is', 'like') 1}n,
    ```
   ]
  },
  {
   cell_type markdown,
   metadata {},
   source [
    a name='ex-09'an,
    ### Exercise 09n,
    n,
    Next, estimate the probability of a word given the prior 'n' words using the n-gram counts.n,
    n,
    $$ hat{P}(w_t  w_{t-1}dots w_{t-n}) = frac{C(w_{t-1}dots w_{t-n}, w_n)}{C(w_{t-1}dots w_{t-n})} tag{2} $$n,
    n,
    This formula doesn't work when a count of an n-gram is zero..n,
    - Suppose we encounter an n-gram that did not occur in the training data.  n,
    - Then, the equation (2) cannot be evaluated (it becomes zero divided by zero).n,
    n,
    A way to handle zero counts is to add k-smoothing.  n,
    - K-smoothing adds a positive constant $k$ to each numerator and $k times V$ in the denominator, where $V$ is the number of words in the vocabulary.n,
    n,
    $$ hat{P}(w_t  w_{t-1}dots w_{t-n}) = frac{C(w_{t-1}dots w_{t-n}, w_n) + k}{C(w_{t-1}dots w_{t-n}) + kV} tag{3} $$n,
    n,
    n,
    For n-grams that have a zero count, the equation (3) becomes $frac{1}{V}$.n,
    - This means that any n-gram with zero count has the same probability of $frac{1}{V}$.n,
    n,
    Define a function that computes the probability estimate (3) from n-gram counts and a constant $k$.n,
    n,
    - The function takes in a dictionary 'n_gram_counts', where the key is the n-gram and the value is the count of that n-gram.n,
    - The function also takes another dictionary n_plus1_gram_counts, which you'll use to find the count for the previous n-gram plus the current word.
   ]
  },
  {
   cell_type markdown,
   metadata {},
   source [
    details    n,
    summaryn,
        font size=3 color=darkgreenbHintsbfontn,
    summaryn,
    pn,
    uln,
        liTo define a tuple containing a single value, add a comma after that value.  For example code('apple',)code is a tuple containing a single string 'apple' lin,
        liTo concatenate two tuples, use the '+' operatorlin,
        lia href=  words a lin,
    uln,
    pn
   ]
  },
  {
   cell_type code,
   execution_count 23,
   metadata {},
   outputs [],
   source [
    # UNQ_C9 (UNIQUE CELL IDENTIFIER, DO NOT EDIT)n,
    ### GRADED FUNCTION estimate_probabilityy ###n,
    def estimate_probability(word, previous_n_gram, n,
                             n_gram_counts, n_plus1_gram_counts, vocabulary_size, k=1.0)n,
        n,
        Estimate the probabilities of a next word using the n-gram counts with k-smoothingn,
        n,
        Argsn,
            word next wordn,
            previous_n_gram A sequence of words of length nn,
            n_gram_counts Dictionary of counts of (n+1)-gramsn,
            n_plus1_gram_counts Dictionary of counts of (n+1)-gramsn,
            vocabulary_size number of words in the vocabularyn,
            k positive constant, smoothing parametern,
        n,
        Returnsn,
            A probabilityn,
        n,
        # convert list to tuple to use it as a dictionary keyn,
        previous_n_gram = tuple(previous_n_gram) n,
        n,
        ### START CODE HERE (Replace instances of 'None' with your code) ###n,
        n,
        # Set the denominatorn,
        # If the previous n-gram exists in the dictionary of n-gram counts,n,
        # Get its count.  Otherwise set the count to zeron,
        # Use the dictionary that has counts for n-gramsn,
        previous_n_gram_count = n_gram_counts[previous_n_gram] if previous_n_gram in n_gram_counts  else 0n,
        n,
        # Calculate the denominator using the count of the previous n gramn,
        # and apply k-smoothingn,
        denominator = previous_n_gram_count + k  vocabulary_sizen,
        n,
        # Define n plus 1 gram as the previous n-gram plus the current word as a tuplen,
        n_plus1_gram = previous_n_gram + (word,)n,
    n,
        # Set the count to the count in the dictionary,n,
        # otherwise 0 if not in the dictionaryn,
        # use the dictionary that has counts for the n-gram plus current wordn,
        n_plus1_gram_count = n_plus1_gram_counts[n_plus1_gram] if n_plus1_gram in n_plus1_gram_counts  else 0n,
        n,
        # Define the numerator use the count of the n-gram plus current word,n,
        # and apply smoothingn,
        numerator = n_plus1_gram_count + kn,
        n,
        # Calculate the probability as the numerator divided by denominatorn,
        probability = numerator  denominatorn,
        n,
        ### END CODE HERE ###n,
        n,
        return probability
   ]
  },
  {
   cell_type code,
   execution_count 24,
   metadata {},
   outputs [
    {
     name stdout,
     output_type stream,
     text [
      The estimated probability of word 'cat' given the previous n-gram 'a' is 0.3333n
     ]
    }
   ],
   source [
    # test your coden,
    sentences = [['i', 'like', 'a', 'cat'],n,
                 ['this', 'dog', 'is', 'like', 'a', 'cat']]n,
    unique_words = list(set(sentences[0] + sentences[1]))n,
    n,
    unigram_counts = count_n_grams(sentences, 1)n,
    n,
    bigram_counts = count_n_grams(sentences, 2)n,
    n,
    tmp_prob = estimate_probability(cat, a, unigram_counts, bigram_counts, len(unique_words), k=1)n,
    n,
    print(fThe estimated probability of word 'cat' given the previous n-gram 'a' is {tmp_prob.4f})
   ]
  },
  {
   cell_type markdown,
   metadata {},
   source [
    ##### Expected outputn,
    n,
    ```CPPn,
    The estimated probability of word 'cat' given the previous n-gram 'a' is 0.3333n,
    ```
   ]
  },
  {
   cell_type markdown,
   metadata {},
   source [
    ### Estimate probabilities for all wordsn,
    n,
    The function defined below loops over all words in vocabulary to calculate probabilities for all possible words.n,
    - This function is provided for you.
   ]
  },
  {
   cell_type code,
   execution_count 25,
   metadata {},
   outputs [],
   source [
    def estimate_probabilities(previous_n_gram, n_gram_counts, n_plus1_gram_counts, vocabulary, k=1.0)n,
        n,
        Estimate the probabilities of next words using the n-gram counts with k-smoothingn,
        n,
        Argsn,
            previous_n_gram A sequence of words of length nn,
            n_gram_counts Dictionary of counts of (n+1)-gramsn,
            n_plus1_gram_counts Dictionary of counts of (n+1)-gramsn,
            vocabulary List of wordsn,
            k positive constant, smoothing parametern,
        n,
        Returnsn,
            A dictionary mapping from next words to the probability.n,
        n,
        n,
        # convert list to tuple to use it as a dictionary keyn,
        previous_n_gram = tuple(previous_n_gram)n,
        n,
        # add e unk to the vocabularyn,
        # s is not needed since it should not appear as the next wordn,
        vocabulary = vocabulary + [e, unk]n,
        vocabulary_size = len(vocabulary)n,
        n,
        probabilities = {}n,
        for word in vocabularyn,
            probability = estimate_probability(word, previous_n_gram, n,
                                               n_gram_counts, n_plus1_gram_counts, n,
                                               vocabulary_size, k=k)n,
            probabilities[word] = probabilityn,
    n,
        return probabilities
   ]
  },
  {
   cell_type code,
   execution_count 26,
   metadata {},
   outputs [
    {
     data {
     textplain [
       {'dog' 0.09090909090909091,n,
        'this' 0.09090909090909091,n,
        'cat' 0.2727272727272727,n,
        'is' 0.09090909090909091,n,
        'like' 0.09090909090909091,n,
        'a' 0.09090909090909091,n,
        'i' 0.09090909090909091,n,
        'e' 0.09090909090909091,n,
        'unk' 0.09090909090909091}
      ]
     },
     execution_count 26,
     metadata {},
     output_type execute_result
    }
   ],
   source [
    # test your coden,
    sentences = [['i', 'like', 'a', 'cat'],n,
                 ['this', 'dog', 'is', 'like', 'a', 'cat']]n,
    unique_words = list(set(sentences[0] + sentences[1]))n,
    unigram_counts = count_n_grams(sentences, 1)n,
    bigram_counts = count_n_grams(sentences, 2)n,
    estimate_probabilities(a, unigram_counts, bigram_counts, unique_words, k=1)
   ]
  },
  {
   cell_type markdown,
   metadata {},
   source [
    ##### Expected outputn,
    n,
    ```CPPn,
    {'cat' 0.2727272727272727,n,
     'i' 0.09090909090909091,n,
     'this' 0.09090909090909091,n,
     'a' 0.09090909090909091,n,
     'is' 0.09090909090909091,n,
     'like' 0.09090909090909091,n,
     'dog' 0.09090909090909091,n,
     'e' 0.09090909090909091,n,
     'unk' 0.09090909090909091}n,
    ```
   ]
  },
  {
   cell_type code,
   execution_count 27,
   metadata {},
   outputs [
    {
     data {
      textplain [
       {'dog' 0.09090909090909091,n,
        'this' 0.18181818181818182,n,
        'cat' 0.09090909090909091,n,
        'is' 0.09090909090909091,n,
        'like' 0.09090909090909091,n,
        'a' 0.09090909090909091,n,
        'i' 0.18181818181818182,n,
        'e' 0.09090909090909091,n,
        'unk' 0.09090909090909091}
      ]
     },
     execution_count 27,
     metadata {},
     output_type execute_result
    }
   ],
   source [
    # Additional testn,
    trigram_counts = count_n_grams(sentences, 3)n,
    estimate_probabilities([s, s], bigram_counts, trigram_counts, unique_words, k=1)
   ]
  },
  {
   cell_type markdown,
   metadata {},
   source [
    ##### Expected outputn,
    n,
    ```CPPn,
    {'cat' 0.09090909090909091,n,
     'i' 0.18181818181818182,n,
     'this' 0.18181818181818182,n,
     'a' 0.09090909090909091,n,
     'is' 0.09090909090909091,n,
     'like' 0.09090909090909091,n,
     'dog' 0.09090909090909091,n,
     'e' 0.09090909090909091,n,
     'unk' 0.09090909090909091}n,
    ```
   ]
  },
  {
   cell_type markdown,
   metadata {},
   source [
    ### Count and probability matricesn,
    n,
    As we have seen so far, the n-gram counts computed above are sufficient for computing the probabilities of the next word.  n,
    - It can be more intuitive to present them as count or probability matrices.n,
    - The functions defined in the next cells return count or probability matrices.n,
    - This function is provided for you.
   ]
  },
  {
   cell_type code,
   execution_count 28,
   metadata {},
   outputs [],
   source [
    def make_count_matrix(n_plus1_gram_counts, vocabulary)n,
        # add e unk to the vocabularyn,
        # s is omitted since it should not appear as the next wordn,
        vocabulary = vocabulary + [e, unk]n,
        n,
        # obtain unique n-gramsn,
        n_grams = []n,
        for n_plus1_gram in n_plus1_gram_counts.keys()n,
            n_gram = n_plus1_gram[0-1]n,
            n_grams.append(n_gram)n,
        n_grams = list(set(n_grams))n,
        n,
        # mapping from n-gram to rown,
        row_index = {n_grami for i, n_gram in enumerate(n_grams)}n,
        # mapping from next word to columnn,
        col_index = {wordj for j, word in enumerate(vocabulary)}n,
        n,
        nrow = len(n_grams)n,
        ncol = len(vocabulary)n,
        count_matrix = np.zeros((nrow, ncol))n,
        for n_plus1_gram, count in n_plus1_gram_counts.items()n,
            n_gram = n_plus1_gram[0-1]n,
            word = n_plus1_gram[-1]n,
            if word not in vocabularyn,
                continuen,
            i = row_index[n_gram]n,
            j = col_index[word]n,
            count_matrix[i, j] = countn,
        n,
        count_matrix = pd.DataFrame(count_matrix, index=n_grams, columns=vocabulary)n,
        return count_matrix
   ]
  },
  {
   cell_type code,
   execution_count 29,
   metadata {},
   outputs [
    {
     name stdout,
     output_type stream,
     text [
      bigram countsn
     ]
    },
    {
     data {
      texthtml [
       divn,
       style scopedn,
           .dataframe tbody tr thonly-of-type {n,
               vertical-align middle;n,
           }n,
       n,
           .dataframe tbody tr th {n,
               vertical-align top;n,
           }n,
       n,
           .dataframe thead th {n,
               text-align right;n,
           }n,
       stylen,
       table border=1 class=dataframen,
         theadn,
           tr style=text-align right;n,
              ththn,
             thdogthn,
             ththisthn,
             thcatthn,
             thisthn,
             thlikethn,
             thathn,
             thithn,
             th&lt;e&gt;thn,
             th&lt;unk&gt;thn,
           trn,
         theadn,
         tbodyn,
           trn,
             th(&lt;s&gt;,)thn,
             td0.0tdn,
             td1.0tdn,
             td0.0tdn,
             td0.0tdn,
             td0.0tdn,
             td0.0tdn,
             td1.0tdn,
             td0.0tdn,
             td0.0tdn,
           trn,
           trn,
             th(dog,)thn,
             td0.0tdn,
             td0.0tdn,
             td0.0tdn,
             td1.0tdn,
             td0.0tdn,
             td0.0tdn,
             td0.0tdn,
             td0.0tdn,
             td0.0tdn,
           trn,
           trn,
             th(cat,)thn,
             td0.0tdn,
             td0.0tdn,
             td0.0tdn,
             td0.0tdn,
             td0.0tdn,
             td0.0tdn,
             td0.0tdn,
             td2.0tdn,
             td0.0tdn,
           trn,
           trn,
             th(this,)thn,
             td1.0tdn,
             td0.0tdn,
             td0.0tdn,
             td0.0tdn,
             td0.0tdn,
             td0.0tdn,
             td0.0tdn,
             td0.0tdn,
             td0.0tdn,
           trn,
           trn,
             th(is,)thn,
             td0.0tdn,
             td0.0tdn,
             td0.0tdn,
             td0.0tdn,
             td1.0tdn,
             td0.0tdn,
             td0.0tdn,
             td0.0tdn,
             td0.0tdn,
           trn,
           trn,
             th(like,)thn,
             td0.0tdn,
             td0.0tdn,
             td0.0tdn,
             td0.0tdn,
             td0.0tdn,
             td2.0tdn,
             td0.0tdn,
             td0.0tdn,
             td0.0tdn,
           trn,
           trn,
             th(a,)thn,
             td0.0tdn,
             td0.0tdn,
             td2.0tdn,
             td0.0tdn,
             td0.0tdn,
             td0.0tdn,
             td0.0tdn,
             td0.0tdn,
             td0.0tdn,
           trn,
           trn,
             th(i,)thn,
             td0.0tdn,
             td0.0tdn,
             td0.0tdn,
             td0.0tdn,
             td1.0tdn,
             td0.0tdn,
             td0.0tdn,
             td0.0tdn,
             td0.0tdn,
           trn,
         tbodyn,
       tablen,
       div
      ],
      textplain [
                dog  this  cat   is  like    a    i  e  unkn,
       (s,)   0.0   1.0  0.0  0.0   0.0  0.0  1.0  0.0    0.0n,
       (dog,)   0.0   0.0  0.0  1.0   0.0  0.0  0.0  0.0    0.0n,
       (cat,)   0.0   0.0  0.0  0.0   0.0  0.0  0.0  2.0    0.0n,
       (this,)  1.0   0.0  0.0  0.0   0.0  0.0  0.0  0.0    0.0n,
       (is,)    0.0   0.0  0.0  0.0   1.0  0.0  0.0  0.0    0.0n,
       (like,)  0.0   0.0  0.0  0.0   0.0  2.0  0.0  0.0    0.0n,
       (a,)     0.0   0.0  2.0  0.0   0.0  0.0  0.0  0.0    0.0n,
       (i,)     0.0   0.0  0.0  0.0   1.0  0.0  0.0  0.0    0.0
      ]
     },
     metadata {},
     output_type display_data
    }
   ],
   source [
    sentences = [['i', 'like', 'a', 'cat'],n,
                     ['this', 'dog', 'is', 'like', 'a', 'cat']]n,
    unique_words = list(set(sentences[0] + sentences[1]))n,
    bigram_counts = count_n_grams(sentences, 2)n,
    n,
    print('bigram counts')n,
    display(make_count_matrix(bigram_counts, unique_words))
   ]
  },
  {
   cell_type markdown,
   metadata {},
   source [
    ##### Expected outputn,
    n,
    ```CPPn,
    bigram countsn,
              cat    i   this   a  is   like  dog  e   unkn,
    (s,)    0.0   1.0  1.0  0.0  0.0  0.0   0.0  0.0    0.0n,
    (a,)      2.0   0.0  0.0  0.0  0.0  0.0   0.0  0.0    0.0n,
    (this,)   0.0   0.0  0.0  0.0  0.0  0.0   1.0  0.0    0.0n,
    (like,)   0.0   0.0  0.0  2.0  0.0  0.0   0.0  0.0    0.0n,
    (dog,)    0.0   0.0  0.0  0.0  1.0  0.0   0.0  0.0    0.0n,
    (cat,)    0.0   0.0  0.0  0.0  0.0  0.0   0.0  2.0    0.0n,
    (is,)     0.0   0.0  0.0  0.0  0.0  1.0   0.0  0.0    0.0n,
    (i,)      0.0   0.0  0.0  0.0  0.0  1.0   0.0  0.0    0.0n,
    ```
   ]
  },
  {
   cell_type code,
   execution_count 30,
   metadata {},
   outputs [
    {
     name stdout,
     output_type stream,
     text [
      n,
      trigram countsn
     ]
    },
    {
     data {
      texthtml [
       divn,
       style scopedn,
           .dataframe tbody tr thonly-of-type {n,
               vertical-align middle;n,
           }n,
       n,
           .dataframe tbody tr th {n,
               vertical-align top;n,
           }n,
       n,
           .dataframe thead th {n,
               text-align right;n,
           }n,
       stylen,
       table border=1 class=dataframen,
         theadn,
           tr style=text-align right;n,
             ththn,
             thdogthn,
             ththisthn,
             thcatthn,
             thisthn,
             thlikethn,
             thathn,
             thithn,
             th&lt;e&gt;thn,
             th&lt;unk&gt;thn,
           trn,
         theadn,
         tbodyn,
           trn,
             th(like, a)thn,
             td0.0tdn,
             td0.0tdn,
             td2.0tdn,
             td0.0tdn,
             td0.0tdn,
             td0.0tdn,
             td0.0tdn,
             td0.0tdn,
             td0.0tdn,
           trn,
           trn,
             th(&lt;s&gt;, &lt;s&gt;)thn,
             td0.0tdn,
             td1.0tdn,
             td0.0tdn,
             td0.0tdn,
             td0.0tdn,
             td0.0tdn,
             td1.0tdn,
             td0.0tdn,
             td0.0tdn,
           trn,
           trn,
             th(i, like)thn,
             td0.0tdn,
             td0.0tdn,
             td0.0tdn,
             td0.0tdn,
             td0.0tdn,
             td1.0tdn,
             td0.0tdn,
             td0.0tdn,
             td0.0tdn,
           trn,
           trn,
             th(a, cat)thn,
             td0.0tdn,
             td0.0tdn,
             td0.0tdn,
             td0.0tdn,
             td0.0tdn,
             td0.0tdn,
             td0.0tdn,
             td2.0tdn,
             td0.0tdn,
           trn,
           trn,
             th(dog, is)thn,
             td0.0tdn,
             td0.0tdn,
             td0.0tdn,
             td0.0tdn,
             td1.0tdn,
             td0.0tdn,
             td0.0tdn,
             td0.0tdn,
             td0.0tdn,
           trn,
           trn,
             th(cat,)thn,
             td0.0tdn,
             td0.0tdn,
             td0.0tdn,
             td0.0tdn,
             td0.0tdn,
             td0.0tdn,
             td0.0tdn,
             td2.0tdn,
             td0.0tdn,
           trn,
           trn,
             th(&lt;s&gt;, this)thn,
             td1.0tdn,
             td0.0tdn,
             td0.0tdn,
             td0.0tdn,
             td0.0tdn,
             td0.0tdn,
             td0.0tdn,
             td0.0tdn,
             td0.0tdn,
           trn,
           trn,
             th(this, dog)thn,
             td0.0tdn,
             td0.0tdn,
             td0.0tdn,
             td1.0tdn,
             td0.0tdn,
             td0.0tdn,
             td0.0tdn,
             td0.0tdn,
             td0.0tdn,
           trn,
           trn,
             th(is, like)thn,
             td0.0tdn,
             td0.0tdn,
             td0.0tdn,
             td0.0tdn,
             td0.0tdn,
             td1.0tdn,
             td0.0tdn,
             td0.0tdn,
             td0.0tdn,
           trn,
           trn,
             th(&lt;s&gt;, i)thn,
             td0.0tdn,
             td0.0tdn,
             td0.0tdn,
             td0.0tdn,
             td1.0tdn,
             td0.0tdn,
             td0.0tdn,
             td0.0tdn,
             td0.0tdn,
           trn,
         tbodyn,
       tablen,
       div
      ],
      textplain [
                    dog  this  cat   is  like    a    i  e  unkn,
       (like, a)    0.0   0.0  2.0  0.0   0.0  0.0  0.0  0.0    0.0n,
       (s, s)   0.0   1.0  0.0  0.0   0.0  0.0  1.0  0.0    0.0n,
       (i, like)    0.0   0.0  0.0  0.0   0.0  1.0  0.0  0.0    0.0n,
       (a, cat)     0.0   0.0  0.0  0.0   0.0  0.0  0.0  2.0    0.0n,
       (dog, is)    0.0   0.0  0.0  0.0   1.0  0.0  0.0  0.0    0.0n,
       (cat,)       0.0   0.0  0.0  0.0   0.0  0.0  0.0  2.0    0.0n,
       (s, this)  1.0   0.0  0.0  0.0   0.0  0.0  0.0  0.0    0.0n,
       (this, dog)  0.0   0.0  0.0  1.0   0.0  0.0  0.0  0.0    0.0n,
       (is, like)   0.0   0.0  0.0  0.0   0.0  1.0  0.0  0.0    0.0n,
       (s, i)     0.0   0.0  0.0  0.0   1.0  0.0  0.0  0.0    0.0
      ]
     },
     metadata {},
     output_type display_data
    }
   ],
   source [
    # Show trigram countsn,
    print('ntrigram counts')n,
    trigram_counts = count_n_grams(sentences, 3)n,
    display(make_count_matrix(trigram_counts, unique_words))
   ]
  },
  {
   cell_type markdown,
   metadata {},
   source [
    ##### Expected outputn,
    n,
    ```CPPn,
    trigram countsn,
                  cat    i   this   a  is   like  dog  e   unkn,
    (dog, is)     0.0   0.0  0.0  0.0  0.0  1.0   0.0  0.0    0.0n,
    (this, dog)   0.0   0.0  0.0  0.0  1.0  0.0   0.0  0.0    0.0n,
    (a, cat)      0.0   0.0  0.0  0.0  0.0  0.0   0.0  2.0    0.0n,
    (like, a)     2.0   0.0  0.0  0.0  0.0  0.0   0.0  0.0    0.0n,
    (is, like)    0.0   0.0  0.0  1.0  0.0  0.0   0.0  0.0    0.0n,
    (s, i)      0.0   0.0  0.0  0.0  0.0  1.0   0.0  0.0    0.0n,
    (i, like)     0.0   0.0  0.0  1.0  0.0  0.0   0.0  0.0    0.0n,
    (s, s)    0.0   1.0  1.0  0.0  0.0  0.0   0.0  0.0    0.0n,
    (s, this)   0.0   0.0  0.0  0.0  0.0  0.0   1.0  0.0    0.0n,
    ```
   ]
  },
  {
   cell_type markdown,
   metadata {},
   source [
    The following function calculates the probabilities of each word given the previous n-gram, and stores this in matrix form.n,
    - This function is provided for you.
   ]
  },
  {
   cell_type code,
   execution_count 31,
   metadata {},
   outputs [],
   source [
    def make_probability_matrix(n_plus1_gram_counts, vocabulary, k)n,
        count_matrix = make_count_matrix(n_plus1_gram_counts, unique_words)n,
        count_matrix += kn,
        prob_matrix = count_matrix.div(count_matrix.sum(axis=1), axis=0)n,
        return prob_matrix
   ]
  },
  {
   cell_type code,
   execution_count 32,
   metadata {},
   outputs [
    {
     name stdout,
     output_type stream,
     text [
      bigram probabilitiesn
     ]
    },
    {
     data {
      texthtml [
       divn,
       style scopedn,
           .dataframe tbody tr thonly-of-type {n,
               vertical-align middle;n,
           }n,
       n,
           .dataframe tbody tr th {n,
               vertical-align top;n,
           }n,
       n,
           .dataframe thead th {n,
               text-align right;n,
           }n,
       stylen,
       table border=1 class=dataframen,
         theadn,
           tr style=text-align right;n,
             ththn,
             thdogthn,
             ththisthn,
             thcatthn,
             thisthn,
             thlikethn,
             thathn,
             thithn,
             th&lt;e&gt;thn,
             th&lt;unk&gt;thn,
           trn,
         theadn,
         tbodyn,
           trn,
             th(&lt;s&gt;,)thn,
             td0.090909tdn,
             td0.181818tdn,
             td0.090909tdn,
             td0.090909tdn,
             td0.090909tdn,
             td0.090909tdn,
             td0.181818tdn,
             td0.090909tdn,
             td0.090909tdn,
           trn,
           trn,
             th(dog,)thn,
             td0.100000tdn,
             td0.100000tdn,
             td0.100000tdn,
             td0.200000tdn,
             td0.100000tdn,
             td0.100000tdn,
             td0.100000tdn,
             td0.100000tdn,
             td0.100000tdn,
           trn,
           trn,
             th(cat,)thn,
             td0.090909tdn,
             td0.090909tdn,
             td0.090909tdn,
             td0.090909tdn,
             td0.090909tdn,
             td0.090909tdn,
             td0.090909tdn,
             td0.272727tdn,
             td0.090909tdn,
           trn,
           trn,
             th(this,)thn,
             td0.200000tdn,
             td0.100000tdn,
             td0.100000tdn,
             td0.100000tdn,
             td0.100000tdn,
             td0.100000tdn,
             td0.100000tdn,
             td0.100000tdn,
             td0.100000tdn,
           trn,
           trn,
             th(is,)thn,
             td0.100000tdn,
             td0.100000tdn,
             td0.100000tdn,
             td0.100000tdn,
             td0.200000tdn,
             td0.100000tdn,
             td0.100000tdn,
             td0.100000tdn,
             td0.100000tdn,
           trn,
           trn,
             th(like,)thn,
             td0.090909tdn,
             td0.090909tdn,
             td0.090909tdn,
             td0.090909tdn,
             td0.090909tdn,
             td0.272727tdn,
             td0.090909tdn,
             td0.090909tdn,
             td0.090909tdn,
           trn,
           trn,
             th(a,)thn,
             td0.090909tdn,
             td0.090909tdn,
             td0.272727tdn,
             td0.090909tdn,
             td0.090909tdn,
             td0.090909tdn,
             td0.090909tdn,
             td0.090909tdn,
             td0.090909tdn,
           trn,
           trn,
             th(i,)thn,
             td0.100000tdn,
             td0.100000tdn,
             td0.100000tdn,
             td0.100000tdn,
             td0.200000tdn,
             td0.100000tdn,
             td0.100000tdn,
             td0.100000tdn,
             td0.100000tdn,
           trn,
         tbodyn,
       tablen,
       div
      ],
      textplain [
                     dog      this       cat        is      like         a         i  n,
       (s,)   0.090909  0.181818  0.090909  0.090909  0.090909  0.090909  0.181818   n,
       (dog,)   0.100000  0.100000  0.100000  0.200000  0.100000  0.100000  0.100000   n,
       (cat,)   0.090909  0.090909  0.090909  0.090909  0.090909  0.090909  0.090909   n,
       (this,)  0.200000  0.100000  0.100000  0.100000  0.100000  0.100000  0.100000   n,
       (is,)    0.100000  0.100000  0.100000  0.100000  0.200000  0.100000  0.100000   n,
       (like,)  0.090909  0.090909  0.090909  0.090909  0.090909  0.272727  0.090909   n,
       (a,)     0.090909  0.090909  0.272727  0.090909  0.090909  0.090909  0.090909   n,
       (i,)     0.100000  0.100000  0.100000  0.100000  0.200000  0.100000  0.100000   n,
       n,
                     e     unk  n,
       (s,)   0.090909  0.090909  n,
       (dog,)   0.100000  0.100000  n,
       (cat,)   0.272727  0.090909  n,
       (this,)  0.100000  0.100000  n,
       (is,)    0.100000  0.100000  n,
       (like,)  0.090909  0.090909  n,
       (a,)     0.090909  0.090909  n,
       (i,)     0.100000  0.100000  
      ]
     },
     metadata {},
     output_type display_data
    }
   ],
   source [
    sentences = [['i', 'like', 'a', 'cat'],n,
                     ['this', 'dog', 'is', 'like', 'a', 'cat']]n,
    unique_words = list(set(sentences[0] + sentences[1]))n,
    bigram_counts = count_n_grams(sentences, 2)n,
    print(bigram probabilities)n,
    display(make_probability_matrix(bigram_counts, unique_words, k=1))
   ]
  },
  {
   cell_type code,
   execution_count 33,
   metadata {},
   outputs [
    {
     name stdout,
     output_type stream,
     text [
      trigram probabilitiesn
     ]
    },
    {
     data {
      texthtml [
       divn,
       style scopedn,
           .dataframe tbody tr thonly-of-type {n,
               vertical-align middle;n,
           }n,
       n,
           .dataframe tbody tr th {n,
               vertical-align top;n,
           }n,
       n,
           .dataframe thead th {n,
               text-align right;n,
           }n,
       stylen,
       table border=1 class=dataframen,
         theadn,
           tr style=text-align right;n,
             ththn,
             thdogthn,
             ththisthn,
             thcatthn,
             thisthn,
             thlikethn,
             thathn,
             thithn,
             th&lt;e&gt;thn,
             th&lt;unk&gt;thn,
           trn,
         theadn,
         tbodyn,
           trn,
             th(like, a)thn,
             td0.090909tdn,
             td0.090909tdn,
             td0.272727tdn,
             td0.090909tdn,
             td0.090909tdn,
             td0.090909tdn,
             td0.090909tdn,
             td0.090909tdn,
             td0.090909tdn,
           trn,
           trn,
             th(&lt;s&gt;, &lt;s&gt;)thn,
             td0.090909tdn,
             td0.181818tdn,
             td0.090909tdn,
             td0.090909tdn,
             td0.090909tdn,
             td0.090909tdn,
             td0.181818tdn,
             td0.090909tdn,
             td0.090909tdn,
           trn,
           trn,
             th(i, like)thn,
             td0.100000tdn,
             td0.100000tdn,
             td0.100000tdn,
             td0.100000tdn,
             td0.100000tdn,
             td0.200000tdn,
             td0.100000tdn,
             td0.100000tdn,
             td0.100000tdn,
           trn,
           trn,
             th(a, cat)thn,
             td0.090909tdn,
             td0.090909tdn,
             td0.090909tdn,
             td0.090909tdn,
             td0.090909tdn,
             td0.090909tdn,
             td0.090909tdn,
             td0.272727tdn,
             td0.090909tdn,
           trn,
           trn,
             th(dog, is)thn,
             td0.100000tdn,
             td0.100000tdn,
             td0.100000tdn,
             td0.100000tdn,
             td0.200000tdn,
             td0.100000tdn,
             td0.100000tdn,
             td0.100000tdn,
             td0.100000tdn,
           trn,
           trn,
             th(cat,)thn,
             td0.090909tdn,
             td0.090909tdn,
             td0.090909tdn,
             td0.090909tdn,
             td0.090909tdn,
             td0.090909tdn,
             td0.090909tdn,
             td0.272727tdn,
             td0.090909tdn,
           trn,
           trn,
             th(&lt;s&gt;, this)thn,
             td0.200000tdn,
             td0.100000tdn,
             td0.100000tdn,
             td0.100000tdn,
             td0.100000tdn,
             td0.100000tdn,
             td0.100000tdn,
             td0.100000tdn,
             td0.100000tdn,
           trn,
           trn,
             th(this, dog)thn,
             td0.100000tdn,
             td0.100000tdn,
             td0.100000tdn,
             td0.200000tdn,
             td0.100000tdn,
             td0.100000tdn,
             td0.100000tdn,
             td0.100000tdn,
             td0.100000tdn,
           trn,
           trn,
             th(is, like)thn,
             td0.100000tdn,
             td0.100000tdn,
             td0.100000tdn,
             td0.100000tdn,
             td0.100000tdn,
             td0.200000tdn,
             td0.100000tdn,
             td0.100000tdn,
             td0.100000tdn,
           trn,
           trn,
             th(&lt;s&gt;, i)thn,
             td0.100000tdn,
             td0.100000tdn,
             td0.100000tdn,
             td0.100000tdn,
             td0.200000tdn,
             td0.100000tdn,
             td0.100000tdn,
             td0.100000tdn,
             td0.100000tdn,
           trn,
         tbodyn,
       tablen,
       div
      ],
      textplain [
                         dog      this       cat        is      like         a  n,
       (like, a)    0.090909  0.090909  0.272727  0.090909  0.090909  0.090909   n,
       (s, s)   0.090909  0.181818  0.090909  0.090909  0.090909  0.090909   n,
       (i, like)    0.100000  0.100000  0.100000  0.100000  0.100000  0.200000   n,
       (a, cat)     0.090909  0.090909  0.090909  0.090909  0.090909  0.090909   n,
       (dog, is)    0.100000  0.100000  0.100000  0.100000  0.200000  0.100000   n,
       (cat,)       0.090909  0.090909  0.090909  0.090909  0.090909  0.090909   n,
       (s, this)  0.200000  0.100000  0.100000  0.100000  0.100000  0.100000   n,
       (this, dog)  0.100000  0.100000  0.100000  0.200000  0.100000  0.100000   n,
       (is, like)   0.100000  0.100000  0.100000  0.100000  0.100000  0.200000   n,
       (s, i)     0.100000  0.100000  0.100000  0.100000  0.200000  0.100000   n,
       n,
                           i       e     unk  n,
       (like, a)    0.090909  0.090909  0.090909  n,
       (s, s)   0.181818  0.090909  0.090909  n,
       (i, like)    0.100000  0.100000  0.100000  n,
       (a, cat)     0.090909  0.272727  0.090909  n,
       (dog, is)    0.100000  0.100000  0.100000  n,
       (cat,)       0.090909  0.272727  0.090909  n,
       (s, this)  0.100000  0.100000  0.100000  n,
       (this, dog)  0.100000  0.100000  0.100000  n,
       (is, like)   0.100000  0.100000  0.100000  n,
       (s, i)     0.100000  0.100000  0.100000  
      ]
     },
     metadata {},
     output_type display_data
    }
   ],
   source [
    print(trigram probabilities)n,
    trigram_counts = count_n_grams(sentences, 3)n,
    display(make_probability_matrix(trigram_counts, unique_words, k=1))
   ]
  },
  {
   cell_type markdown,
   metadata {},
   source [
    Confirm that you obtain the same results as for the `estimate_probabilities` function that you implemented.
   ]
  },
  {
   cell_type markdown,
   metadata {},
   source [
    a name='3'an,
    ## Part 3 Perplexityn,
    n,
    In this section, you will generate the perplexity score to evaluate your model on the test set. n,
    - You will also use back-off when needed. n,
    - Perplexity is used as an evaluation metric of your language model. n,
    - To calculate the  the perplexity score of the test set on an n-gram model, use n,
    n,
    $$ PP(W) =sqrt[N]{ prod_{t=n+1}^N frac{1}{P(w_t  w_{t-n} cdots w_{t-1})} } tag{4}$$n,
    n,
    - where $N$ is the length of the sentence.n,
    - $n$ is the number of words in the n-gram (e.g. 2 for a bigram).n,
    - In math, the numbering starts at one and not zero.n,
    n,
    In code, array indexing starts at zero, so the code will use ranges for $t$ according to this formulan,
    n,
    $$ PP(W) =sqrt[N]{ prod_{t=n}^{N-1} frac{1}{P(w_t  w_{t-n} cdots w_{t-1})} } tag{4.1}$$n,
    n,
    The higher the probabilities are, the lower the perplexity will be. n,
    - The more the n-grams tell us about the sentence, the lower the perplexity score will be. 
   ]
  },
  {
   cell_type markdown,
   metadata {},
   source [
    a name='ex-10'an,
    ### Exercise 10n,
    Compute the perplexity score given an N-gram count matrix and a sentence. 
   ]
  },
  {
   cell_type markdown,
   metadata {},
   source [
    details    n,
    summaryn,
        font size=3 color=darkgreenbHintsbfontn,
    summaryn,
    pn,
    uln,
        liRemember that coderange(2,4)code produces the integers [2, 3] (and excludes 4).lin,
    uln,
    pn
   ]
  },
  {
   cell_type code,
   execution_count 34,
   metadata {},
   outputs [],
   source [
    # UNQ_C10 (UNIQUE CELL IDENTIFIER, DO NOT EDIT)n,
    # GRADED FUNCTION calculate_perplexityn,
    def calculate_perplexity(sentence, n_gram_counts, n_plus1_gram_counts, vocabulary_size, k=1.0)n,
        n,
        Calculate perplexity for a list of sentencesn,
        n,
        Argsn,
            sentence List of stringsn,
            n_gram_counts Dictionary of counts of (n+1)-gramsn,
            n_plus1_gram_counts Dictionary of counts of (n+1)-gramsn,
            vocabulary_size number of unique words in the vocabularyn,
            k Positive smoothing constantn,
        n,
        Returnsn,
            Perplexity scoren,
        n,
        # length of previous wordsn,
        n = len(list(n_gram_counts.keys())[0]) n,
        n,
        # prepend s and append en,
        sentence = [s]  n + sentence + [e]n,
        n,
        # Cast the sentence from a list to a tuplen,
        sentence = tuple(sentence)n,
        n,
        # length of sentence (after adding s and e tokens)n,
        N = len(sentence)n,
        n,
        # The variable p will hold the productn,
        # that is calculated inside the n-rootn,
        # Update this in the code belown,
        product_pi = 1.0n,
        n,
        ### START CODE HERE (Replace instances of 'None' with your code) ###n,
        # Index t ranges from n to N - 1n,
        for t in range(n, N) # complete this linen,
    n,
            # get the n-gram preceding the word at position tn,
            n_gram = sentence[t-nt]n,
            n,
            # get the word at position tn,
            word = sentence[t]n,
            n,
            # Estimate the probability of the word given the n-gramn,
            # using the n-gram counts, n-plus1-gram counts,n,
            # vocabulary size, and smoothing constantn,
            probability = estimate_probability(word,n_gram, n_gram_counts, n_plus1_gram_counts, len(unique_words), k=1)n,
            n,
            # Update the product of the probabilitiesn,
            # This 'product_pi' is a cumulative product n,
            # of the (1P) factors that are calculated in the loopn,
            product_pi = 1  probabilityn,
    n,
        # Take the Nth root of the productn,
        perplexity = product_pi(1float(N))n,
        n,
        ### END CODE HERE ### n,
        return perplexity
   ]
  },
  {
   cell_type code,
   execution_count 35,
   metadata {},
   outputs [
    {
     name stdout,
     output_type stream,
     text [
      Perplexity for first train sample 2.8040n,
      Perplexity for test sample 3.9654n
     ]
    }
   ],
   source [
    # test your coden,
    n,
    sentences = [['i', 'like', 'a', 'cat'],n,
                     ['this', 'dog', 'is', 'like', 'a', 'cat']]n,
    unique_words = list(set(sentences[0] + sentences[1]))n,
    n,
    unigram_counts = count_n_grams(sentences, 1)n,
    bigram_counts = count_n_grams(sentences, 2)n,
    n,
    n,
    perplexity_train1 = calculate_perplexity(sentences[0],n,
                                             unigram_counts, bigram_counts,n,
                                             len(unique_words), k=1.0)n,
    print(fPerplexity for first train sample {perplexity_train1.4f})n,
    n,
    test_sentence = ['i', 'like', 'a', 'dog']n,
    perplexity_test = calculate_perplexity(test_sentence,n,
                                           unigram_counts, bigram_counts,n,
                                           len(unique_words), k=1.0)n,
    print(fPerplexity for test sample {perplexity_test.4f})
   ]
  },
  {
   cell_type markdown,
   metadata {},
   source [
    ### Expected Outputn,
    n,
    ```CPPn,
    Perplexity for first train sample 2.8040n,
    Perplexity for test sample 3.9654n,
    ```n,
    n,
    b Note b If your sentence is really long, there will be underflow when multiplying many fractions.n,
    - To handle longer sentences, modify your implementation to take the sum of the log of the probabilities.
   ]
  },
  {
   cell_type markdown,
   metadata {},
   source [
    a name='4'an,
    ## Part 4 Build an auto-complete systemn,
    n,
    In this section, you will combine the language models developed so far to implement an auto-complete system. n
   ]
  },
  {
   cell_type markdown,
   metadata {},
   source [
    a name='ex-11'an,
    ### Exercise 11n,
    Compute probabilities for all possible next words and suggest the most likely one.n,
    - This function also take an optional argument `start_with`, which specifies the first few letters of the next words.
   ]
  },
  {
   cell_type markdown,
   metadata {},
   source [
    details    n,
    summaryn,
        font size=3 color=darkgreenbHintsbfontn,
    summaryn,
    pn,
    uln,
        licodeestimate_probabilitiescode returns a dictionary where the key is a word and the value is the word's probability.lin,
        li Use codestr1.startswith(str2)code to determine if a string starts with the letters of another string.  For example, code'learning'.startswith('lea')code returns True, whereas code'learning'.startswith('ear')code returns False. There are two additional parameters in codestr.startswith()code, but you can use the default values for those parameters in this case.lin,
    uln,
    p
   ]
  },
  {
   cell_type code,
   execution_count 36,
   metadata {},
   outputs [],
   source [
    # UNQ_C11 (UNIQUE CELL IDENTIFIER, DO NOT EDIT)n,
    # GRADED FUNCTION suggest_a_wordn,
    def suggest_a_word(previous_tokens, n_gram_counts, n_plus1_gram_counts, vocabulary, k=1.0, start_with=None)n,
        n,
        Get suggestion for the next wordn,
        n,
        Argsn,
            previous_tokens The sentence you input where each token is a word. Must have length  n n,
            n_gram_counts Dictionary of counts of (n+1)-gramsn,
            n_plus1_gram_counts Dictionary of counts of (n+1)-gramsn,
            vocabulary List of wordsn,
            k positive constant, smoothing parametern,
            start_with If not None, specifies the first few letters of the next wordn,
            n,
        Returnsn,
            A tuple of n,
              - string of the most likely next wordn,
              - corresponding probabilityn,
        n,
        n,
        # length of previous wordsn,
        n = len(list(n_gram_counts.keys())[0]) n,
        n,
        # From the words that the user already typedn,
        # get the most recent 'n' words as the previous n-gramn,
        previous_n_gram = previous_tokens[-n]n,
    n,
        # Estimate the probabilities that each word in the vocabularyn,
        # is the next word,n,
        # given the previous n-gram, the dictionary of n-gram counts,n,
        # the dictionary of n plus 1 gram counts, and the smoothing constantn,
        probabilities = estimate_probabilities(previous_n_gram,n,
                                               n_gram_counts, n_plus1_gram_counts,n,
                                               vocabulary, k=k)n,
        n,
        # Initialize suggested word to Nonen,
        # This will be set to the word with highest probabilityn,
        suggestion = Nonen,
        n,
        # Initialize the highest word probability to 0n,
        # this will be set to the highest probability n,
        # of all words to be suggestedn,
        max_prob = 0n,
        n,
        ### START CODE HERE (Replace instances of 'None' with your code) ###n,
        n,
        # For each word and its probability in the probabilities dictionaryn,
        for word, prob in probabilities.items() # complete this linen,
            n,
            # If the optional start_with string is setn,
            if start_with != None # complete this linen,
    n,
                # Check if the word starts with the letters in 'start_with'n,
                if not word.startswith(start_with) # complete this linen,
    n,
                    #If so, don't consider this word (move onto the next word)n,
                    continue # complete this linen,
            n,
            # Check if this word's probabilityn,
            # is greater than the current maximum probabilityn,
            if prob  max_prob # complete this linen,
                n,
                # If so, save this word as the best suggestion (so far)n,
                suggestion = wordn,
                n,
                # Save the new maximum probabilityn,
                max_prob = probn,
    n,
        ### END CODE HEREn,
        n,
        return suggestion, max_prob
   ]
  },
  {
   cell_type code,
   execution_count 37,
   metadata {},
   outputs [
    {
     name stdout,
     output_type stream,
     text [
      The previous words are 'i like',n,
      tand the suggested word is `a` with a probability of 0.2727n,
      n,
      The previous words are 'i like', the suggestion must start with `c`n,
      tand the suggested word is `cat` with a probability of 0.0909n
     ]
    }
   ],
   source [
    # test your coden,
    sentences = [['i', 'like', 'a', 'cat'],n,
                 ['this', 'dog', 'is', 'like', 'a', 'cat']]n,
    unique_words = list(set(sentences[0] + sentences[1]))n,
    n,
    unigram_counts = count_n_grams(sentences, 1)n,
    bigram_counts = count_n_grams(sentences, 2)n,
    n,
    previous_tokens = [i, like]n,
    tmp_suggest1 = suggest_a_word(previous_tokens, unigram_counts, bigram_counts, unique_words, k=1.0)n,
    print(fThe previous words are 'i like',ntand the suggested word is `{tmp_suggest1[0]}` with a probability of {tmp_suggest1[1].4f})n,
    n,
    print()n,
    # test your code when setting the starts_withn,
    tmp_starts_with = 'c'n,
    tmp_suggest2 = suggest_a_word(previous_tokens, unigram_counts, bigram_counts, unique_words, k=1.0, start_with=tmp_starts_with)n,
    print(fThe previous words are 'i like', the suggestion must start with `{tmp_starts_with}`ntand the suggested word is `{tmp_suggest2[0]}` with a probability of {tmp_suggest2[1].4f})
   ]
  },
  {
   cell_type markdown,
   metadata {},
   source [
    ### Expected outputn,
    n,
    ```CPPn,
    The previous words are 'i like',n,
    tand the suggested word is `a` with a probability of 0.2727n,
    n,
    The previous words are 'i like', the suggestion must start with `c`n,
    tand the suggested word is `cat` with a probability of 0.0909n,
    n,
    ```
   ]
  },
  {
   cell_type markdown,
   metadata {},
   source [
    ### Get multiple suggestionsn,
    n,
    The function defined below loop over varioud n-gram models to get multiple suggestions.
   ]
  },
  {
   cell_type code,
   execution_count 38,
   metadata {},
   outputs [],
   source [
    def get_suggestions(previous_tokens, n_gram_counts_list, vocabulary, k=1.0, start_with=None)n,
        model_counts = len(n_gram_counts_list)n,
        suggestions = []n,
        for i in range(model_counts-1)n,
            n_gram_counts = n_gram_counts_list[i]n,
            n_plus1_gram_counts = n_gram_counts_list[i+1]n,
            n,
            suggestion = suggest_a_word(previous_tokens, n_gram_counts,n,
                                        n_plus1_gram_counts, vocabulary,n,
                                        k=k, start_with=start_with)n,
            suggestions.append(suggestion)n,
        return suggestions
   ]
  },
  {
   cell_type code,
   execution_count 39,
   metadata {},
   outputs [
    {
     name stdout,
     output_type stream,
     text [
      The previous words are 'i like', the suggestions aren
     ]
    },
    {
     data {
      textplain [
       [('a', 0.2727272727272727),n,
        ('a', 0.2),n,
        ('dog', 0.1111111111111111),n,
        ('dog', 0.1111111111111111)]
      ]
     },
     metadata {},
     output_type display_data
    }
   ],
   source [
    # test your coden,
    sentences = [['i', 'like', 'a', 'cat'],n,
                 ['this', 'dog', 'is', 'like', 'a', 'cat']]n,
    unique_words = list(set(sentences[0] + sentences[1]))n,
    n,
    unigram_counts = count_n_grams(sentences, 1)n,
    bigram_counts = count_n_grams(sentences, 2)n,
    trigram_counts = count_n_grams(sentences, 3)n,
    quadgram_counts = count_n_grams(sentences, 4)n,
    qintgram_counts = count_n_grams(sentences, 5)n,
    n,
    n_gram_counts_list = [unigram_counts, bigram_counts, trigram_counts, quadgram_counts, qintgram_counts]n,
    previous_tokens = [i, like]n,
    tmp_suggest3 = get_suggestions(previous_tokens, n_gram_counts_list, unique_words, k=1.0)n,
    n,
    print(fThe previous words are 'i like', the suggestions are)n,
    display(tmp_suggest3)
   ]
  },
  {
   cell_type markdown,
   metadata {},
   source [
    ### Suggest multiple words using n-grams of varying lengthn,
    n,
    Congratulations!  You have developed all building blocks for implementing your own auto-complete systems.n,
    n,
    Let's see this with n-grams of varying lengths (unigrams, bigrams, trigrams, 4-grams...6-grams).
   ]
  },
  {
   cell_type code,
   execution_count 40,
   metadata {},
   outputs [
    {
     name stdout,
     output_type stream,
     text [
      Computing n-gram counts with n = 1 ...n,
      Computing n-gram counts with n = 2 ...n,
      Computing n-gram counts with n = 3 ...n,
      Computing n-gram counts with n = 4 ...n,
      Computing n-gram counts with n = 5 ...n
     ]
    }
   ],
   source [
    n_gram_counts_list = []n,
    for n in range(1, 6)n,
        print(Computing n-gram counts with n =, n, ...)n,
        n_model_counts = count_n_grams(train_data_processed, n)n,
        n_gram_counts_list.append(n_model_counts)
   ]
  },
  {
   cell_type code,
   execution_count 41,
   metadata {},
   outputs [
    {
     name stdout,
     output_type stream,
     text [
      The previous words are ['i', 'am', 'to'], the suggestions aren
     ]
    },
    {
     data {
      textplain [
       [('be', 0.027665685098338604),n,
        ('have', 0.00013487086115044844),n,
        ('have', 0.00013490725126475548),n,
        ('i', 6.746272684341901e-05)]
      ]
     },
     metadata {},
     output_type display_data
    }
   ],
   source [
    previous_tokens = [i, am, to]n,
    tmp_suggest4 = get_suggestions(previous_tokens, n_gram_counts_list, vocabulary, k=1.0)n,
    n,
    print(fThe previous words are {previous_tokens}, the suggestions are)n,
    display(tmp_suggest4)
   ]
  },
  {
   cell_type code,
   execution_count 42,
   metadata {},
   outputs [
    {
     name stdout,
     output_type stream,
     text [
      The previous words are ['i', 'want', 'to', 'go'], the suggestions aren
     ]
    },
    {
     data {
      textplain [
       [('to', 0.014051961029228078),n,
        ('to', 0.004697942168993581),n,
        ('to', 0.0009424436216762033),n,
        ('to', 0.0004044489383215369)]
      ]
     },
     metadata {},
     output_type display_data
    }
   ],
   source [
    previous_tokens = [i, want, to, go]n,
    tmp_suggest5 = get_suggestions(previous_tokens, n_gram_counts_list, vocabulary, k=1.0)n,
    n,
    print(fThe previous words are {previous_tokens}, the suggestions are)n,
    display(tmp_suggest5)
   ]
  },
  {
   cell_type code,
   execution_count 43,
   metadata {},
   outputs [
    {
     name stdout,
     output_type stream,
     text [
      The previous words are ['hey', 'how', 'are'], the suggestions aren
     ]
    },
    {
     data {
      textplain [
       [('you', 0.023426812585499317),n,
        ('you', 0.003559435862995299),n,
        ('you', 0.00013491635186184566),n,
        ('i', 6.746272684341901e-05)]
      ]
     },
     metadata {},
     output_type display_data
    }
   ],
   source [
    previous_tokens = [hey, how, are]n,
    tmp_suggest6 = get_suggestions(previous_tokens, n_gram_counts_list, vocabulary, k=1.0)n,
    n,
    print(fThe previous words are {previous_tokens}, the suggestions are)n,
    display(tmp_suggest6)
   ]
  },
  {
   cell_type code,
   execution_count 44,
   metadata {},
   outputs [
    {
     name stdout,
     output_type stream,
     text [
      The previous words are ['hey', 'how', 'are', 'you'], the suggestions aren
     ]
    },
    {
     data {
      textplain [
       [('re, 0.023973994311255586),n,
        ('', 0.002888465830762161),n,
        ('', 0.0016134453781512605),n,
        ('e', 0.00013491635186184566)]
      ]
     },
     metadata {},
     output_type display_data
    }
   ],
   source [
    previous_tokens = [hey, how, are, you]n,
    tmp_suggest7 = get_suggestions(previous_tokens, n_gram_counts_list, vocabulary, k=1.0)n,
    n,
    print(fThe previous words are {previous_tokens}, the suggestions are)n,
    display(tmp_suggest7)
   ]
  },
  {
   cell_type code,
   execution_count 45,
   metadata {},
   outputs [
    {
     name stdout,
     output_type stream,
     text [
      The previous words are ['hey', 'how', 'are', 'you'], the suggestions aren
     ]
    },
    {
     data {
      textplain [
       [('do', 0.009020723283218204),n,
        ('doing', 0.0016411737674785006),n,
        ('doing', 0.00047058823529411766),n,
        ('dvd', 6.745817593092283e-05)]
      ]
     },
     metadata {},
     output_type display_data
    }
   ],
   source [
    previous_tokens = [hey, how, are, you]n,
    tmp_suggest8 = get_suggestions(previous_tokens, n_gram_counts_list, vocabulary, k=1.0, start_with=d)n,
    n,
    print(fThe previous words are {previous_tokens}, the suggestions are)n,
    display(tmp_suggest8)
   ]
  },
  {
   cell_type markdown,
   metadata {},
   source [
    # Congratulations!n,
    n,
    You've completed this assignment by building an autocomplete model using an n-gram language model!  n,
    n,
    Please continue onto the fourth and final week of this course!
   ]
  }
 ],
 metadata {
  coursera {
   schema_names [
    NLPC2-3
   ]
  },
  kernelspec {
   display_name Python 3,
   language python,
   name python3
  },
  language_info {
   codemirror_mode {
    name ipython,
    version 3
   },
   file_extension .py,
   mimetype textx-python,
   name python,
   nbconvert_exporter python,
   pygments_lexer ipython3,
   version 3.7.1
  }
 },
 nbformat 4,
 nbformat_minor 4
}